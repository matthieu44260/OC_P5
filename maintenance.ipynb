{
 "cells": [
  {
   "cell_type": "code",
   "execution_count": 1,
   "id": "dc015456",
   "metadata": {},
   "outputs": [],
   "source": [
    "import pandas as pd\n",
    "import numpy as np\n",
    "import matplotlib.pyplot as plt\n",
    "import seaborn as sns\n",
    "import mpl_toolkits\n",
    "from mpl_toolkits.mplot3d import Axes3D\n",
    "from sklearn.cluster import KMeans, DBSCAN, AgglomerativeClustering\n",
    "from sklearn.preprocessing import StandardScaler\n",
    "from datetime import timedelta\n",
    "from sklearn.metrics.cluster import adjusted_rand_score as ari"
   ]
  },
  {
   "cell_type": "markdown",
   "id": "12228e42",
   "metadata": {},
   "source": [
    " "
   ]
  },
  {
   "cell_type": "code",
   "execution_count": 2,
   "id": "a29917cb",
   "metadata": {},
   "outputs": [],
   "source": [
    "def nett_customers():\n",
    "    '''Choisis les variables du dataset customers.'''\n",
    "\n",
    "    df_customers = pd.read_csv('olist_customers_dataset.csv')\n",
    "    data = df_customers[['customer_id', 'customer_unique_id']]\n",
    "\n",
    "    return data"
   ]
  },
  {
   "cell_type": "code",
   "execution_count": 3,
   "id": "cc446139",
   "metadata": {},
   "outputs": [],
   "source": [
    "def nett_orders(data):\n",
    "    '''\n",
    "    Ajoute les variables choisis du dataset orders.\n",
    "    Sélectionne les commandes livrées.\n",
    "    Créé la variable recency.\n",
    "    '''\n",
    "\n",
    "    df_orders = pd.read_csv('olist_orders_dataset.csv')\n",
    "\n",
    "    df_orders2 = df_orders.loc[df_orders['order_status'] == 'delivered']\n",
    "    df_orders2['order_delivered_customer_date'] = \\\n",
    "    pd.to_datetime(df_orders2['order_delivered_customer_date'])\n",
    "    df_orders2['order_estimated_delivery_date'] = \\\n",
    "    pd.to_datetime(df_orders2['order_estimated_delivery_date'])\n",
    "\n",
    "    max_date = df_orders2['order_delivered_customer_date'].max()\n",
    "    df_orders2['recency'] = \\\n",
    "    (max_date - df_orders2['order_delivered_customer_date']).dt.days\n",
    "\n",
    "    df_orders2 = df_orders2[['customer_id', 'order_id',\n",
    "                             'order_delivered_customer_date', 'recency']]\n",
    "\n",
    "    data = pd.merge(data, df_orders2, on = 'customer_id')\n",
    "\n",
    "    return data"
   ]
  },
  {
   "cell_type": "code",
   "execution_count": 4,
   "id": "9b5d6885",
   "metadata": {},
   "outputs": [],
   "source": [
    "def nett_payments(data):\n",
    "    '''\n",
    "    Ajoute les variables choisis du dataset payments.\n",
    "    Regroupe par commande.\n",
    "    Créé la variable monetary.\n",
    "    '''\n",
    "\n",
    "    df_payments = pd.read_csv('olist_order_payments_dataset.csv')\n",
    "\n",
    "    df_payments2 = df_payments.groupby(['order_id']).agg({\n",
    "        'payment_sequential': 'max',\n",
    "        'payment_type': lambda x: ' '.join(x),\n",
    "        'payment_installments': 'sum',\n",
    "        'payment_value': 'sum'\n",
    "    })\n",
    "    df_payments2.reset_index(inplace = True)\n",
    "\n",
    "    df_payments2 = df_payments2[['order_id', 'payment_value',\n",
    "                                 'payment_installments']]\n",
    "\n",
    "    df_payments2.rename({'payment_value': 'monetary'},\n",
    "                        inplace = True, axis = 1)\n",
    "\n",
    "    data['frequency'] = data['order_delivered_customer_date']\n",
    "\n",
    "    data = pd.merge(data, df_payments2, on = 'order_id')\n",
    "\n",
    "    return data"
   ]
  },
  {
   "cell_type": "code",
   "execution_count": 5,
   "id": "a954bb74",
   "metadata": {},
   "outputs": [],
   "source": [
    "def nett_reviews(data):\n",
    "    '''Ajoute les variables du dataset reviews.'''\n",
    "\n",
    "    df_reviews = pd.read_csv('olist_order_reviews_dataset.csv')\n",
    "    df_reviews2 = df_reviews[['order_id', 'review_score']]\n",
    "\n",
    "    data = pd.merge(data, df_reviews2, on = 'order_id')\n",
    "\n",
    "    return data"
   ]
  },
  {
   "cell_type": "code",
   "execution_count": 6,
   "id": "fbff84b8",
   "metadata": {},
   "outputs": [],
   "source": [
    "def prepa_data():\n",
    "    '''Créé le dataset.'''\n",
    "\n",
    "    data = nett_customers()\n",
    "    data = nett_orders(data)\n",
    "    data = nett_payments(data)\n",
    "    data = nett_reviews(data)\n",
    "\n",
    "    data = data.groupby(\n",
    "        ['customer_unique_id','order_delivered_customer_date']\n",
    "    ).agg({\n",
    "        'recency': 'min',\n",
    "        'frequency': 'count',\n",
    "        'monetary': 'sum',\n",
    "        'payment_installments': 'sum',\n",
    "        'review_score': 'mean'\n",
    "    })\n",
    "\n",
    "    data.reset_index('order_delivered_customer_date', inplace = True)\n",
    "\n",
    "    return data"
   ]
  },
  {
   "cell_type": "code",
   "execution_count": 7,
   "id": "3d4ac937",
   "metadata": {},
   "outputs": [],
   "source": [
    "def data_periode(data, T):\n",
    "    '''\n",
    "    Regroupe le dataset par client et ne renvoie que les valeurs\n",
    "    dont la commande a été livrée avant la date T.\n",
    "    '''\n",
    "\n",
    "    data = data.loc[data['order_delivered_customer_date'] < T]\n",
    "    data = data.groupby('customer_unique_id').agg({\n",
    "        'recency': 'min',\n",
    "        'frequency': 'count',\n",
    "        'monetary': 'sum',\n",
    "        'review_score': 'mean',\n",
    "        'payment_installments': 'mean'\n",
    "    })\n",
    "\n",
    "    return data[['recency', 'frequency', 'monetary',\n",
    "                 'review_score', 'payment_installments']]"
   ]
  },
  {
   "cell_type": "code",
   "execution_count": 8,
   "id": "75a3640d",
   "metadata": {},
   "outputs": [],
   "source": [
    "def maintenance():\n",
    "    '''\n",
    "    Créé un premier modèle de départ (model_init) entrainé sur\n",
    "    les commandes antérieures à T0 = 31/12/2017.\n",
    "    Créé un modèle de comparaison (model_new) entrainé sur \n",
    "    les commandes antérieures à T0 + 15 jours puis T0 + 30 jours ...\n",
    "    Renvoie les scores ARI et les dates correspondantes entre\n",
    "    T0 et le 31/12/2018.\n",
    "    '''\n",
    "\n",
    "    X = prepa_data()\n",
    "\n",
    "    T0 = '2017-12-31'\n",
    "    X0 = data_periode(data = X, T = T0)\n",
    "    std_init = StandardScaler()\n",
    "    std_init.fit(X0)\n",
    "    X0_nrm = std_init.transform(X0)\n",
    "    model_init = KMeans(n_clusters = 6, init = 'k-means++',\n",
    "                        max_iter = 300, n_init = 15, tol = 0.0001)\n",
    "    model_init.fit(X0_nrm)\n",
    "\n",
    "    score_ari = 1\n",
    "    T_new = pd.to_datetime(T0)\n",
    "    liste_scores = []\n",
    "    liste_dates = []\n",
    "\n",
    "    while T_new < pd.to_datetime('2018-12-31'):\n",
    "        X_new = data_periode(data = X, T = T_new)\n",
    "        std_new = StandardScaler()\n",
    "        X_new_nrm = std_new.fit_transform(X_new)\n",
    "        model_new = KMeans(n_clusters = 6, init = 'k-means++',\n",
    "                           max_iter = 300, n_init = 15, tol = 0.0001)\n",
    "        model_new.fit(X_new_nrm)\n",
    "        labels_new = model_new.labels_\n",
    "        labels_init = model_init.predict(std_init.transform(X_new))\n",
    "        score_ari = ari(labels_init, labels_new)\n",
    "        liste_scores.append(score_ari)\n",
    "        liste_dates.append(T_new)\n",
    "        T_new += timedelta(days = 15)\n",
    "\n",
    "    return liste_scores, liste_dates"
   ]
  },
  {
   "cell_type": "code",
   "execution_count": 9,
   "id": "fbb0c96c",
   "metadata": {},
   "outputs": [
    {
     "name": "stderr",
     "output_type": "stream",
     "text": [
      "C:\\Users\\matth\\AppData\\Local\\Temp\\ipykernel_18100\\1992786781.py:11: SettingWithCopyWarning: \n",
      "A value is trying to be set on a copy of a slice from a DataFrame.\n",
      "Try using .loc[row_indexer,col_indexer] = value instead\n",
      "\n",
      "See the caveats in the documentation: https://pandas.pydata.org/pandas-docs/stable/user_guide/indexing.html#returning-a-view-versus-a-copy\n",
      "  df_orders2['order_delivered_customer_date'] = \\\n",
      "C:\\Users\\matth\\AppData\\Local\\Temp\\ipykernel_18100\\1992786781.py:13: SettingWithCopyWarning: \n",
      "A value is trying to be set on a copy of a slice from a DataFrame.\n",
      "Try using .loc[row_indexer,col_indexer] = value instead\n",
      "\n",
      "See the caveats in the documentation: https://pandas.pydata.org/pandas-docs/stable/user_guide/indexing.html#returning-a-view-versus-a-copy\n",
      "  df_orders2['order_estimated_delivery_date'] = \\\n",
      "C:\\Users\\matth\\AppData\\Local\\Temp\\ipykernel_18100\\1992786781.py:17: SettingWithCopyWarning: \n",
      "A value is trying to be set on a copy of a slice from a DataFrame.\n",
      "Try using .loc[row_indexer,col_indexer] = value instead\n",
      "\n",
      "See the caveats in the documentation: https://pandas.pydata.org/pandas-docs/stable/user_guide/indexing.html#returning-a-view-versus-a-copy\n",
      "  df_orders2['recency'] = \\\n"
     ]
    },
    {
     "data": {
      "text/plain": [
       "[0.9939752519217488,\n",
       " 0.9331530871122743,\n",
       " 0.8659548816959751,\n",
       " 0.7796057889071624,\n",
       " 0.7157363902218474,\n",
       " 0.6872779852117541,\n",
       " 0.6450952724804482,\n",
       " 0.6159933972130869,\n",
       " 0.5940254191328085,\n",
       " 0.5763246292635853,\n",
       " 0.5607302058677177,\n",
       " 0.5435281941442164,\n",
       " 0.5273367188596534,\n",
       " 0.5214284772041619,\n",
       " 0.5164176150314707,\n",
       " 0.5083506095579352,\n",
       " 0.4601731469870869,\n",
       " 0.4479089929719182,\n",
       " 0.4479750490124738,\n",
       " 0.4478322621431517,\n",
       " 0.44709985233904587,\n",
       " 0.4478542366697815,\n",
       " 0.44786991138445836,\n",
       " 0.44784993376393994,\n",
       " 0.4482498969399223]"
      ]
     },
     "execution_count": 9,
     "metadata": {},
     "output_type": "execute_result"
    }
   ],
   "source": [
    "scores, dates = maintenance()\n",
    "\n",
    "scores"
   ]
  },
  {
   "cell_type": "code",
   "execution_count": 10,
   "id": "811b79fb",
   "metadata": {},
   "outputs": [
    {
     "data": {
      "text/plain": [
       "[Timestamp('2017-12-31 00:00:00'),\n",
       " Timestamp('2018-01-15 00:00:00'),\n",
       " Timestamp('2018-01-30 00:00:00'),\n",
       " Timestamp('2018-02-14 00:00:00'),\n",
       " Timestamp('2018-03-01 00:00:00'),\n",
       " Timestamp('2018-03-16 00:00:00'),\n",
       " Timestamp('2018-03-31 00:00:00'),\n",
       " Timestamp('2018-04-15 00:00:00'),\n",
       " Timestamp('2018-04-30 00:00:00'),\n",
       " Timestamp('2018-05-15 00:00:00'),\n",
       " Timestamp('2018-05-30 00:00:00'),\n",
       " Timestamp('2018-06-14 00:00:00'),\n",
       " Timestamp('2018-06-29 00:00:00'),\n",
       " Timestamp('2018-07-14 00:00:00'),\n",
       " Timestamp('2018-07-29 00:00:00'),\n",
       " Timestamp('2018-08-13 00:00:00'),\n",
       " Timestamp('2018-08-28 00:00:00'),\n",
       " Timestamp('2018-09-12 00:00:00'),\n",
       " Timestamp('2018-09-27 00:00:00'),\n",
       " Timestamp('2018-10-12 00:00:00'),\n",
       " Timestamp('2018-10-27 00:00:00'),\n",
       " Timestamp('2018-11-11 00:00:00'),\n",
       " Timestamp('2018-11-26 00:00:00'),\n",
       " Timestamp('2018-12-11 00:00:00'),\n",
       " Timestamp('2018-12-26 00:00:00')]"
      ]
     },
     "execution_count": 10,
     "metadata": {},
     "output_type": "execute_result"
    }
   ],
   "source": [
    "dates"
   ]
  },
  {
   "cell_type": "code",
   "execution_count": 11,
   "id": "0e64fe82",
   "metadata": {},
   "outputs": [
    {
     "data": {
      "image/png": "[encoded data removed]",
      "text/plain": [
       "<Figure size 1000x800 with 1 Axes>"
      ]
     },
     "metadata": {},
     "output_type": "display_data"
    }
   ],
   "source": [
    "plt.figure(figsize = (10, 8))\n",
    "plt.plot(dates, scores, marker = 'o')\n",
    "plt.axhline(y = 0.8, color = 'red', linestyle='--')\n",
    "plt.xlabel('dates')\n",
    "plt.xticks(dates, rotation = 45)\n",
    "plt.ylabel('score ARI')\n",
    "plt.title('Evolution du score ARI')\n",
    "plt.show()"
   ]
  },
  {
   "cell_type": "markdown",
   "id": "5de2f290",
   "metadata": {},
   "source": [
    "Le score ARI descend en-dessous de 0.8 au bout de 45 jours. "
   ]
  },
  {
   "cell_type": "code",
   "execution_count": null,
   "id": "d3187651",
   "metadata": {},
   "outputs": [],
   "source": []
  }
 ],
 "metadata": {
  "kernelspec": {
   "display_name": "Python 3 (ipykernel)",
   "language": "python",
   "name": "python3"
  },
  "language_info": {
   "codemirror_mode": {
    "name": "ipython",
    "version": 3
   },
   "file_extension": ".py",
   "mimetype": "text/x-python",
   "name": "python",
   "nbconvert_exporter": "python",
   "pygments_lexer": "ipython3",
   "version": "3.9.16"
  }
 },
 "nbformat": 4,
 "nbformat_minor": 5
}
